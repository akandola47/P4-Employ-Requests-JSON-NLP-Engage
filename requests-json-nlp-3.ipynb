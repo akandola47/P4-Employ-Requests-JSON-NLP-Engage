{
 "cells": [
  {
   "cell_type": "markdown",
   "metadata": {},
   "source": [
    "# Web Mining and Applied NLP (44-620)\n",
    "\n",
    "## Requests, JSON, and NLP\n",
    "\n",
    "### Student Name: Asrhpreet Kandola\n",
    "\n",
    "Perform the tasks described in the Markdown cells below.  When you have completed the assignment make sure your code cells have all been run (and have output beneath them) and ensure you have committed and pushed ALL of your changes to your assignment repository.\n",
    "\n",
    "Make sure you have [installed spaCy and its pipeline](https://spacy.io/usage#quickstart) and [spaCyTextBlob](https://spacy.io/universe/project/spacy-textblob)\n",
    "\n",
    "Every question that requires you to write code will have a code cell underneath it; you may either write your entire solution in that cell or write it in a python file (`.py`), then import and run the appropriate code to answer the question.\n",
    "\n",
    "This assignment requires that you write additional files (either JSON or pickle files); make sure to submit those files in your repository as well."
   ]
  },
  {
   "cell_type": "markdown",
   "metadata": {},
   "source": [
    "1. The following code accesses the [lyrics.ovh](https://lyricsovh.docs.apiary.io/#reference/0/lyrics-of-a-song/search) public api, searches for the lyrics of a song, and stores it in a dictionary object.  Write the resulting json to a file (either a JSON file or a pickle file; you choose). You will read in the contents of this file for future questions so we do not need to frequently access the API."
   ]
  },
  {
   "cell_type": "code",
   "execution_count": 1,
   "metadata": {},
   "outputs": [
    {
     "name": "stdout",
     "output_type": "stream",
     "text": [
      "{'lyrics': \"Paroles de la chanson Birdhouse In Your Soul par They Might Be Giants\\r\\nI'm Your Only Friend\\n\\nI'm Not Your Only Friend\\n\\nBut I'm A Little Glowing Friend\\n\\nBut Really I'm Not Actually Your Friend\\n\\nBut I Am\\n\\nBlue Canary In The Outlet By The Light Switch\\n\\nWho Watches Over You\\n\\nMake A Little Birdhouse In Your Soul\\n\\nNot To Put Too Fine A Point On It\\n\\nSay I'm The Only Bee In Your Bonnet\\n\\nMake A Little Birdhouse In Your Soul\\n\\nI Have A Secret To Tell\\n\\nFrom My Electrical Well\\n\\nIt's A Simple Message And I'm Leaving Out The Whistles And Bells\\n\\nSo The Room Must Listen To Me\\n\\n\\nFilibuster Vigilantly\\n\\nMy Name Is Blue Canary One Note Spelled Lite\\n\\nMy Story's Infinite\\n\\nLike The Longines Symphonette It Doesn't Rest\\n\\nBlue Canary In The Outlet By The Light Switch\\n\\nWho Watches Over You\\n\\nMake A Little Birdhouse In Your Soul\\n\\nNot To Put Too Fine A Point On It\\n\\nSay I'm The Only Bee In Your Bonnet\\n\\nMake A Little Birdhouse In Your Soul\\n\\nI'm Your Only Friend\\n\\nI'm Not Your Only Friend\\n\\nBut I'm A Little Glowing Friend\\n\\nBut Really I'm Not Actually Your Friend\\n\\nBut I Am\\n\\nThere's A Picture Opposite Me\\n\\nOf My Primitive Ancestry\\n\\nWhich Stood On Rocky Shores And Kept The Beaches Shipwreck Free\\n\\n\\nThough I Respect That A Lot\\n\\nI'd Be Fired If That Were My Job\\n\\nAfter Killing Jason Off And Countless Screaming Argonauts\\n\\nBluebird Of Friendliness\\n\\nLike Guardian Angels Its Always Near\\n\\nBlue Canary In The Outlet By The Light Switch\\n\\nWho Watches Over You\\n\\nMake A Little Birdhouse In Your Soul\\n\\nNot To Put Too Fine A Point On It\\n\\nSay I'm The Only Bee In Your Bonnet\\n\\nMake A Little Birdhouse In Your Soul\\n\\n(And While You're At It\\n\\nKeep The Nightlight On Inside The\\n\\nBirdhouse In Your Soul)\\n\\nNot To Put Too Fine A Point On It\\n\\nSay I'm The Only Bee In Your Bonnet\\n\\nMake A Little Birdhouse In Your Soul\\n\\n\\nBlue Canary In The Outlet By The Light Switch (And While You're At It)\\n\\nWho Watches Over You (Keep The Nightlight On Inside The)\\n\\nMake A L\"}\n",
      "JSON data written to 'lyrics_song.json' successfully.\n"
     ]
    }
   ],
   "source": [
    "import requests\n",
    "import json\n",
    "\n",
    "import spacy\n",
    "from spacytextblob.spacytextblob import SpacyTextBlob\n",
    "\n",
    "result = json.loads(requests.get('https://api.lyrics.ovh/v1/They Might Be Giants/Birdhouse in your soul').text)\n",
    "print(result)\n",
    "\n",
    "with open('lyrics_song.json','w') as file:\n",
    "    json.dump(result,file)\n",
    "    \n",
    "print(\"JSON data written to 'lyrics_song.json' successfully.\")\n",
    "\n",
    "\n",
    "\n"
   ]
  },
  {
   "cell_type": "markdown",
   "metadata": {},
   "source": [
    "2. Read in the contents of your file.  Print the lyrics of the song (not the entire dictionary!) and use spaCyTextBlob to perform sentiment analysis on the lyrics.  Print the polarity score of the sentiment analysis.  Given that the range of the polarity score is `[-1.0,1.0]` which corresponds to how positive or negative the text in question is, do you think the lyrics have a more positive or negative connotaion?  Answer this question in a comment in your code cell."
   ]
  },
  {
   "cell_type": "code",
   "execution_count": 2,
   "metadata": {},
   "outputs": [
    {
     "name": "stdout",
     "output_type": "stream",
     "text": [
      "lyrics of the song:\n",
      "Paroles de la chanson Birdhouse In Your Soul par They Might Be Giants\r\n",
      "I'm Your Only Friend\n",
      "\n",
      "I'm Not Your Only Friend\n",
      "\n",
      "But I'm A Little Glowing Friend\n",
      "\n",
      "But Really I'm Not Actually Your Friend\n",
      "\n",
      "But I Am\n",
      "\n",
      "Blue Canary In The Outlet By The Light Switch\n",
      "\n",
      "Who Watches Over You\n",
      "\n",
      "Make A Little Birdhouse In Your Soul\n",
      "\n",
      "Not To Put Too Fine A Point On It\n",
      "\n",
      "Say I'm The Only Bee In Your Bonnet\n",
      "\n",
      "Make A Little Birdhouse In Your Soul\n",
      "\n",
      "I Have A Secret To Tell\n",
      "\n",
      "From My Electrical Well\n",
      "\n",
      "It's A Simple Message And I'm Leaving Out The Whistles And Bells\n",
      "\n",
      "So The Room Must Listen To Me\n",
      "\n",
      "\n",
      "Filibuster Vigilantly\n",
      "\n",
      "My Name Is Blue Canary One Note Spelled Lite\n",
      "\n",
      "My Story's Infinite\n",
      "\n",
      "Like The Longines Symphonette It Doesn't Rest\n",
      "\n",
      "Blue Canary In The Outlet By The Light Switch\n",
      "\n",
      "Who Watches Over You\n",
      "\n",
      "Make A Little Birdhouse In Your Soul\n",
      "\n",
      "Not To Put Too Fine A Point On It\n",
      "\n",
      "Say I'm The Only Bee In Your Bonnet\n",
      "\n",
      "Make A Little Birdhouse In Your Soul\n",
      "\n",
      "I'm Your Only Friend\n",
      "\n",
      "I'm Not Your Only Friend\n",
      "\n",
      "But I'm A Little Glowing Friend\n",
      "\n",
      "But Really I'm Not Actually Your Friend\n",
      "\n",
      "But I Am\n",
      "\n",
      "There's A Picture Opposite Me\n",
      "\n",
      "Of My Primitive Ancestry\n",
      "\n",
      "Which Stood On Rocky Shores And Kept The Beaches Shipwreck Free\n",
      "\n",
      "\n",
      "Though I Respect That A Lot\n",
      "\n",
      "I'd Be Fired If That Were My Job\n",
      "\n",
      "After Killing Jason Off And Countless Screaming Argonauts\n",
      "\n",
      "Bluebird Of Friendliness\n",
      "\n",
      "Like Guardian Angels Its Always Near\n",
      "\n",
      "Blue Canary In The Outlet By The Light Switch\n",
      "\n",
      "Who Watches Over You\n",
      "\n",
      "Make A Little Birdhouse In Your Soul\n",
      "\n",
      "Not To Put Too Fine A Point On It\n",
      "\n",
      "Say I'm The Only Bee In Your Bonnet\n",
      "\n",
      "Make A Little Birdhouse In Your Soul\n",
      "\n",
      "(And While You're At It\n",
      "\n",
      "Keep The Nightlight On Inside The\n",
      "\n",
      "Birdhouse In Your Soul)\n",
      "\n",
      "Not To Put Too Fine A Point On It\n",
      "\n",
      "Say I'm The Only Bee In Your Bonnet\n",
      "\n",
      "Make A Little Birdhouse In Your Soul\n",
      "\n",
      "\n",
      "Blue Canary In The Outlet By The Light Switch (And While You're At It)\n",
      "\n",
      "Who Watches Over You (Keep The Nightlight On Inside The)\n",
      "\n",
      "Make A L\n",
      "\n",
      "polarity score of the sentiment analysis: 0.04418859649122807\n"
     ]
    }
   ],
   "source": [
    "nlp=spacy.load('en_core_web_sm')\n",
    "\n",
    "nlp.add_pipe('spacytextblob')\n",
    "\n",
    "with open('lyrics_song.json','r') as file:\n",
    "    lyrics_song=json.load(file)\n",
    "    \n",
    "lyrics=lyrics_song['lyrics']\n",
    "\n",
    "doc=nlp(lyrics)\n",
    "\n",
    "sentiment_score=doc._.polarity\n",
    "\n",
    "print(\"lyrics of the song:\")\n",
    "print(lyrics)\n",
    "print()\n",
    "\n",
    "print(\"polarity score of the sentiment analysis:\", sentiment_score)"
   ]
  },
  {
   "cell_type": "markdown",
   "metadata": {},
   "source": [
    "3. Write a function that takes an artist, song, and filename, accesses the lyrics.ovh api to get the song lyrics, and writes the results to the specified filename.  Test this function by getting the lyrics to any four songs of your choice and storing them in different files."
   ]
  },
  {
   "cell_type": "code",
   "execution_count": 10,
   "metadata": {},
   "outputs": [],
   "source": [
    "import requests\n",
    "import json\n",
    "\n",
    "def get_lyrics(artist, song, filename):\n",
    "\n",
    "    # Access the API and load the JSON response into a dictionary\n",
    "    result = json.loads(requests.get(f'https://api.lyrics.ovh/v1/{artist}/{song}').text)\n",
    "\n",
    "    # Write the lyrics to a file\n",
    "    with open(filename, 'w') as f:\n",
    "        if 'lyrics' in result:\n",
    "            f.write(result['lyrics'])\n",
    "        else:\n",
    "            f.write(\"Lyrics not found.\")\n",
    "\n",
    "# Test the function by getting the lyrics of four songs and storing them in different files\n",
    "get_lyrics(\"Tory Lanez\", \"Luv\", \"luv_lyrics.txt\")\n",
    "get_lyrics(\"Morgan Wallen\", \"Broadway Girls\", \"broadway_girls_lyrics.txt\")\n",
    "get_lyrics(\"Future\", \"March Madness\", \"march_madness_lyrics.txt\")\n",
    "get_lyrics(\"Adele\", \"Someone Like You\", \"someone_like_you_lyrics.txt\")"
   ]
  },
  {
   "cell_type": "markdown",
   "metadata": {},
   "source": [
    "4. Write a function that takes the name of a file that contains song lyrics, loads the file, performs sentiment analysis, and returns the polarity score.  Use this function to print the polarity scores (with the name of the song) of the three files you created in question 3.  Does the reported polarity match your understanding of the song's lyrics? Why or why not do you think that might be?  Answer the questions in either a comment in the code cell or a markdown cell under the code cell."
   ]
  },
  {
   "cell_type": "code",
   "execution_count": 12,
   "metadata": {},
   "outputs": [
    {
     "name": "stdout",
     "output_type": "stream",
     "text": [
      "Polarity score for Luv: 0.34546880767811\n",
      "Polarity score for Broadway Girls: 0.0\n",
      "Polarity score for March Madness: -0.1291428571428572\n",
      "Polarity score for Tonight Tonight: 0.04778344671201809\n"
     ]
    }
   ],
   "source": [
    "import spacy\n",
    "from spacytextblob.spacytextblob import SpacyTextBlob\n",
    "\n",
    "def get_polarity_score(filename):\n",
    "\n",
    "    # Load spaCy model and add SpacyTextBlob to the pipeline\n",
    "    nlp = spacy.load('en_core_web_sm')\n",
    "    nlp.add_pipe('spacytextblob')\n",
    "\n",
    "    # Read the lyrics from the file\n",
    "    with open(filename, 'r') as f:\n",
    "        lyrics = f.read()\n",
    "\n",
    "    # Analyze sentiment using spaCyTextBlob\n",
    "    doc = nlp(lyrics)\n",
    "\n",
    "    # Return the polarity score\n",
    "    return doc._.polarity\n",
    "\n",
    "# Test the function by printing the polarity scores of the three files created in question 3\n",
    "print(\"Polarity score for Luv:\", get_polarity_score(\"luv_lyrics.txt\"))\n",
    "print(\"Polarity score for Broadway Girls:\", get_polarity_score(\"broadway_girls_lyrics.txt\"))\n",
    "print(\"Polarity score for March Madness:\", get_polarity_score(\"march_madness_lyrics.txt\"))\n",
    "print(\"Polarity score for Tonight Tonight:\", get_polarity_score(\"tonight_tonight_lyrics.txt\"))"
   ]
  },
  {
   "cell_type": "code",
   "execution_count": null,
   "metadata": {},
   "outputs": [],
   "source": []
  }
 ],
 "metadata": {
  "kernelspec": {
   "display_name": "Python 3 (ipykernel)",
   "language": "python",
   "name": "python3"
  },
  "language_info": {
   "codemirror_mode": {
    "name": "ipython",
    "version": 3
   },
   "file_extension": ".py",
   "mimetype": "text/x-python",
   "name": "python",
   "nbconvert_exporter": "python",
   "pygments_lexer": "ipython3",
   "version": "3.9.12"
  }
 },
 "nbformat": 4,
 "nbformat_minor": 4
}
